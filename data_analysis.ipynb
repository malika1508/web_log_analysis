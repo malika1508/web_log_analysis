{
 "cells": [
  {
   "cell_type": "code",
   "execution_count": 2,
   "metadata": {},
   "outputs": [],
   "source": [
    "import pandas as pd\n",
    "import numpy as np\n",
    "import seaborn as sns\n",
    "\n",
    "pd.set_option('display.max_rows', 10)"
   ]
  },
  {
   "cell_type": "code",
   "execution_count": 3,
   "metadata": {},
   "outputs": [
    {
     "data": {
      "text/html": [
       "<div>\n",
       "<style scoped>\n",
       "    .dataframe tbody tr th:only-of-type {\n",
       "        vertical-align: middle;\n",
       "    }\n",
       "\n",
       "    .dataframe tbody tr th {\n",
       "        vertical-align: top;\n",
       "    }\n",
       "\n",
       "    .dataframe thead th {\n",
       "        text-align: right;\n",
       "    }\n",
       "</style>\n",
       "<table border=\"1\" class=\"dataframe\">\n",
       "  <thead>\n",
       "    <tr style=\"text-align: right;\">\n",
       "      <th></th>\n",
       "      <th>date</th>\n",
       "      <th>time</th>\n",
       "      <th>s-ip</th>\n",
       "      <th>cs-method</th>\n",
       "      <th>cs-uri-stem</th>\n",
       "      <th>cs-uri-query</th>\n",
       "      <th>s-port</th>\n",
       "      <th>cs-username</th>\n",
       "      <th>c-ip</th>\n",
       "      <th>cs(User-Agent)</th>\n",
       "      <th>cs(Referer)</th>\n",
       "      <th>sc-status</th>\n",
       "      <th>sc-substatus</th>\n",
       "      <th>sc-win32-status</th>\n",
       "      <th>time-taken</th>\n",
       "    </tr>\n",
       "  </thead>\n",
       "  <tbody>\n",
       "    <tr>\n",
       "      <th>0</th>\n",
       "      <td>2022-01-01</td>\n",
       "      <td>06:54:00</td>\n",
       "      <td>192.122.207.96</td>\n",
       "      <td>GET</td>\n",
       "      <td>favico.ico</td>\n",
       "      <td>-</td>\n",
       "      <td>443</td>\n",
       "      <td>-</td>\n",
       "      <td>194.79.48.113</td>\n",
       "      <td>Mozilla/4.0+(compatible;+MSIE+6.0;+Windows+NT+...</td>\n",
       "      <td>-</td>\n",
       "      <td>200</td>\n",
       "      <td>0</td>\n",
       "      <td>0</td>\n",
       "      <td>27</td>\n",
       "    </tr>\n",
       "    <tr>\n",
       "      <th>1</th>\n",
       "      <td>2022-01-01</td>\n",
       "      <td>06:54:00</td>\n",
       "      <td>192.122.207.96</td>\n",
       "      <td>GET</td>\n",
       "      <td>index.aspx</td>\n",
       "      <td>-</td>\n",
       "      <td>443</td>\n",
       "      <td>-</td>\n",
       "      <td>194.79.48.113</td>\n",
       "      <td>Mozilla/4.0+(compatible;+MSIE+6.0;+Windows+NT+...</td>\n",
       "      <td>-</td>\n",
       "      <td>200</td>\n",
       "      <td>0</td>\n",
       "      <td>0</td>\n",
       "      <td>25</td>\n",
       "    </tr>\n",
       "    <tr>\n",
       "      <th>2</th>\n",
       "      <td>2022-01-01</td>\n",
       "      <td>06:54:30</td>\n",
       "      <td>192.122.207.96</td>\n",
       "      <td>GET</td>\n",
       "      <td>kgcfhenv.css</td>\n",
       "      <td>-</td>\n",
       "      <td>443</td>\n",
       "      <td>-</td>\n",
       "      <td>194.79.48.113</td>\n",
       "      <td>Mozilla/4.0+(compatible;+MSIE+6.0;+Windows+NT+...</td>\n",
       "      <td>https://bankofpunk.local/index.aspx</td>\n",
       "      <td>404</td>\n",
       "      <td>0</td>\n",
       "      <td>0</td>\n",
       "      <td>25</td>\n",
       "    </tr>\n",
       "    <tr>\n",
       "      <th>3</th>\n",
       "      <td>2022-01-01</td>\n",
       "      <td>06:54:30</td>\n",
       "      <td>192.122.207.96</td>\n",
       "      <td>GET</td>\n",
       "      <td>favico.ico</td>\n",
       "      <td>-</td>\n",
       "      <td>443</td>\n",
       "      <td>-</td>\n",
       "      <td>194.79.48.113</td>\n",
       "      <td>Mozilla/4.0+(compatible;+MSIE+6.0;+Windows+NT+...</td>\n",
       "      <td>https://bankofpunk.local/index.aspx</td>\n",
       "      <td>200</td>\n",
       "      <td>0</td>\n",
       "      <td>0</td>\n",
       "      <td>29</td>\n",
       "    </tr>\n",
       "    <tr>\n",
       "      <th>4</th>\n",
       "      <td>2022-01-01</td>\n",
       "      <td>06:54:30</td>\n",
       "      <td>192.122.207.96</td>\n",
       "      <td>GET</td>\n",
       "      <td>index.aspx</td>\n",
       "      <td>-</td>\n",
       "      <td>443</td>\n",
       "      <td>-</td>\n",
       "      <td>194.79.48.113</td>\n",
       "      <td>Mozilla/4.0+(compatible;+MSIE+6.0;+Windows+NT+...</td>\n",
       "      <td>https://bankofpunk.local/index.aspx</td>\n",
       "      <td>200</td>\n",
       "      <td>0</td>\n",
       "      <td>0</td>\n",
       "      <td>22</td>\n",
       "    </tr>\n",
       "  </tbody>\n",
       "</table>\n",
       "</div>"
      ],
      "text/plain": [
       "         date      time            s-ip cs-method   cs-uri-stem cs-uri-query  \\\n",
       "0  2022-01-01  06:54:00  192.122.207.96       GET    favico.ico            -   \n",
       "1  2022-01-01  06:54:00  192.122.207.96       GET    index.aspx            -   \n",
       "2  2022-01-01  06:54:30  192.122.207.96       GET  kgcfhenv.css            -   \n",
       "3  2022-01-01  06:54:30  192.122.207.96       GET    favico.ico            -   \n",
       "4  2022-01-01  06:54:30  192.122.207.96       GET    index.aspx            -   \n",
       "\n",
       "   s-port cs-username           c-ip  \\\n",
       "0     443           -  194.79.48.113   \n",
       "1     443           -  194.79.48.113   \n",
       "2     443           -  194.79.48.113   \n",
       "3     443           -  194.79.48.113   \n",
       "4     443           -  194.79.48.113   \n",
       "\n",
       "                                      cs(User-Agent)  \\\n",
       "0  Mozilla/4.0+(compatible;+MSIE+6.0;+Windows+NT+...   \n",
       "1  Mozilla/4.0+(compatible;+MSIE+6.0;+Windows+NT+...   \n",
       "2  Mozilla/4.0+(compatible;+MSIE+6.0;+Windows+NT+...   \n",
       "3  Mozilla/4.0+(compatible;+MSIE+6.0;+Windows+NT+...   \n",
       "4  Mozilla/4.0+(compatible;+MSIE+6.0;+Windows+NT+...   \n",
       "\n",
       "                           cs(Referer)  sc-status  sc-substatus  \\\n",
       "0                                    -        200             0   \n",
       "1                                    -        200             0   \n",
       "2  https://bankofpunk.local/index.aspx        404             0   \n",
       "3  https://bankofpunk.local/index.aspx        200             0   \n",
       "4  https://bankofpunk.local/index.aspx        200             0   \n",
       "\n",
       "   sc-win32-status  time-taken  \n",
       "0                0          27  \n",
       "1                0          25  \n",
       "2                0          25  \n",
       "3                0          29  \n",
       "4                0          22  "
      ]
     },
     "execution_count": 3,
     "metadata": {},
     "output_type": "execute_result"
    }
   ],
   "source": [
    "names = 'date', 'time', 's-ip', 'cs-method', 'cs-uri-stem', 'cs-uri-query', 's-port', 'cs-username', 'c-ip', 'cs(User-Agent)',  'cs(Referer)', 'sc-status', 'sc-substatus',  'sc-win32-status', 'time-taken'\n",
    "data = pd.read_table(\"data_anal\", sep= \" \", date_parser=['date'], skiprows= 1, names= names)\n",
    "data.head()"
   ]
  },
  {
   "cell_type": "code",
   "execution_count": 83,
   "metadata": {},
   "outputs": [
    {
     "name": "stdout",
     "output_type": "stream",
     "text": [
      "<class 'pandas.core.frame.DataFrame'>\n",
      "RangeIndex: 70783 entries, 0 to 70782\n",
      "Data columns (total 15 columns):\n",
      " #   Column           Non-Null Count  Dtype \n",
      "---  ------           --------------  ----- \n",
      " 0   date             70783 non-null  object\n",
      " 1   time             70783 non-null  object\n",
      " 2   s-ip             70783 non-null  object\n",
      " 3   cs-method        70783 non-null  object\n",
      " 4   cs-uri-stem      70783 non-null  object\n",
      " 5   cs-uri-query     70783 non-null  object\n",
      " 6   s-port           70783 non-null  int64 \n",
      " 7   cs-username      70783 non-null  object\n",
      " 8   c-ip             70783 non-null  object\n",
      " 9   cs(User-Agent)   70783 non-null  object\n",
      " 10  cs(Referer)      70783 non-null  object\n",
      " 11  sc-status        70783 non-null  int64 \n",
      " 12  sc-substatus     70783 non-null  int64 \n",
      " 13  sc-win32-status  70783 non-null  int64 \n",
      " 14  time-taken       70783 non-null  int64 \n",
      "dtypes: int64(5), object(10)\n",
      "memory usage: 5.4+ MB\n"
     ]
    }
   ],
   "source": [
    "data.info()"
   ]
  },
  {
   "cell_type": "code",
   "execution_count": 84,
   "metadata": {},
   "outputs": [
    {
     "data": {
      "text/html": [
       "<div>\n",
       "<style scoped>\n",
       "    .dataframe tbody tr th:only-of-type {\n",
       "        vertical-align: middle;\n",
       "    }\n",
       "\n",
       "    .dataframe tbody tr th {\n",
       "        vertical-align: top;\n",
       "    }\n",
       "\n",
       "    .dataframe thead th {\n",
       "        text-align: right;\n",
       "    }\n",
       "</style>\n",
       "<table border=\"1\" class=\"dataframe\">\n",
       "  <thead>\n",
       "    <tr style=\"text-align: right;\">\n",
       "      <th></th>\n",
       "      <th>s-port</th>\n",
       "      <th>sc-status</th>\n",
       "      <th>sc-substatus</th>\n",
       "      <th>sc-win32-status</th>\n",
       "      <th>time-taken</th>\n",
       "    </tr>\n",
       "  </thead>\n",
       "  <tbody>\n",
       "    <tr>\n",
       "      <th>count</th>\n",
       "      <td>70783.0</td>\n",
       "      <td>70783.000000</td>\n",
       "      <td>70783.0</td>\n",
       "      <td>70783.0</td>\n",
       "      <td>70783.000000</td>\n",
       "    </tr>\n",
       "    <tr>\n",
       "      <th>mean</th>\n",
       "      <td>443.0</td>\n",
       "      <td>226.076614</td>\n",
       "      <td>0.0</td>\n",
       "      <td>0.0</td>\n",
       "      <td>24.997471</td>\n",
       "    </tr>\n",
       "    <tr>\n",
       "      <th>std</th>\n",
       "      <td>0.0</td>\n",
       "      <td>62.809214</td>\n",
       "      <td>0.0</td>\n",
       "      <td>0.0</td>\n",
       "      <td>3.160411</td>\n",
       "    </tr>\n",
       "    <tr>\n",
       "      <th>min</th>\n",
       "      <td>443.0</td>\n",
       "      <td>200.000000</td>\n",
       "      <td>0.0</td>\n",
       "      <td>0.0</td>\n",
       "      <td>20.000000</td>\n",
       "    </tr>\n",
       "    <tr>\n",
       "      <th>25%</th>\n",
       "      <td>443.0</td>\n",
       "      <td>200.000000</td>\n",
       "      <td>0.0</td>\n",
       "      <td>0.0</td>\n",
       "      <td>22.000000</td>\n",
       "    </tr>\n",
       "    <tr>\n",
       "      <th>50%</th>\n",
       "      <td>443.0</td>\n",
       "      <td>200.000000</td>\n",
       "      <td>0.0</td>\n",
       "      <td>0.0</td>\n",
       "      <td>25.000000</td>\n",
       "    </tr>\n",
       "    <tr>\n",
       "      <th>75%</th>\n",
       "      <td>443.0</td>\n",
       "      <td>200.000000</td>\n",
       "      <td>0.0</td>\n",
       "      <td>0.0</td>\n",
       "      <td>28.000000</td>\n",
       "    </tr>\n",
       "    <tr>\n",
       "      <th>max</th>\n",
       "      <td>443.0</td>\n",
       "      <td>404.000000</td>\n",
       "      <td>0.0</td>\n",
       "      <td>0.0</td>\n",
       "      <td>30.000000</td>\n",
       "    </tr>\n",
       "  </tbody>\n",
       "</table>\n",
       "</div>"
      ],
      "text/plain": [
       "        s-port     sc-status  sc-substatus  sc-win32-status    time-taken\n",
       "count  70783.0  70783.000000       70783.0          70783.0  70783.000000\n",
       "mean     443.0    226.076614           0.0              0.0     24.997471\n",
       "std        0.0     62.809214           0.0              0.0      3.160411\n",
       "min      443.0    200.000000           0.0              0.0     20.000000\n",
       "25%      443.0    200.000000           0.0              0.0     22.000000\n",
       "50%      443.0    200.000000           0.0              0.0     25.000000\n",
       "75%      443.0    200.000000           0.0              0.0     28.000000\n",
       "max      443.0    404.000000           0.0              0.0     30.000000"
      ]
     },
     "execution_count": 84,
     "metadata": {},
     "output_type": "execute_result"
    }
   ],
   "source": [
    "data.describe()"
   ]
  },
  {
   "cell_type": "code",
   "execution_count": 3,
   "metadata": {},
   "outputs": [
    {
     "data": {
      "text/plain": [
       "<AxesSubplot:>"
      ]
     },
     "execution_count": 3,
     "metadata": {},
     "output_type": "execute_result"
    },
    {
     "data": {
      "image/png": "[encoded data removed]",
      "text/plain": [
       "<Figure size 432x288 with 1 Axes>"
      ]
     },
     "metadata": {
      "needs_background": "light"
     },
     "output_type": "display_data"
    }
   ],
   "source": [
    "sns.heatmap(data == '-', yticklabels = False, cbar = False, cmap = 'viridis') # yellow lines represent null values\n"
   ]
  },
  {
   "cell_type": "code",
   "execution_count": 4,
   "metadata": {},
   "outputs": [],
   "source": [
    "data = data[['date', 'time', 'cs-method', 'cs-uri-stem', \n",
    "        'cs-username', 'c-ip', 'cs(User-Agent)', 'cs(Referer)',\n",
    "       'sc-status', 'time-taken']]"
   ]
  },
  {
   "cell_type": "code",
   "execution_count": 5,
   "metadata": {},
   "outputs": [
    {
     "data": {
      "text/plain": [
       "array(['-', 'https://bankofpunk.local/account_status.aspx',\n",
       "       'https://bankofpunk.local/change_avatar.aspx',\n",
       "       'https://bankofpunk.local/changepassword.aspx',\n",
       "       'https://bankofpunk.local/faq.aspx',\n",
       "       'https://bankofpunk.local/index.aspx',\n",
       "       'https://bankofpunk.local/login.aspx',\n",
       "       'https://bankofpunk.local/transactions.aspx',\n",
       "       'https://bankofpunk.local/transfer.aspx',\n",
       "       'https://bankofpunk.local/transfer_complete.aspx'], dtype=object)"
      ]
     },
     "execution_count": 5,
     "metadata": {},
     "output_type": "execute_result"
    }
   ],
   "source": [
    "np.unique(data['cs(Referer)'])"
   ]
  },
  {
   "cell_type": "code",
   "execution_count": 6,
   "metadata": {},
   "outputs": [],
   "source": [
    "data['cs(Referer)']= data['cs(Referer)'].apply(lambda x: x if x == '-' else x[25:]) # removing the \"https://bankofpunk.local/\" part"
   ]
  },
  {
   "cell_type": "markdown",
   "metadata": {},
   "source": [
    "### ----------------> get ips that connects with different usernames"
   ]
  },
  {
   "cell_type": "code",
   "execution_count": 7,
   "metadata": {},
   "outputs": [
    {
     "name": "stdout",
     "output_type": "stream",
     "text": [
      "193.17.187.213 ['-' 'hf428841' 'xj155119']\n"
     ]
    }
   ],
   "source": [
    "grp_ip_agg_username = data.groupby(by='c-ip', as_index=False).agg({'cs-username': pd.Series.nunique})\n",
    "ips = grp_ip_agg_username[grp_ip_agg_username['cs-username'] > 2 ]['c-ip']\n",
    "for ip in ips:\n",
    "        print(ip, np.unique(data[data['c-ip'] ==  ip]['cs-username']))"
   ]
  },
  {
   "cell_type": "markdown",
   "metadata": {},
   "source": [
    "#### -----------> tracing 193.17.187.213 "
   ]
  },
  {
   "cell_type": "code",
   "execution_count": 13,
   "metadata": {},
   "outputs": [
    {
     "name": "stdout",
     "output_type": "stream",
     "text": [
      "GET     119\n",
      "POST      5\n",
      "Name: cs-method, dtype: int64 \n",
      " 200    101\n",
      "404     15\n",
      "301      8\n",
      "Name: sc-status, dtype: int64\n"
     ]
    }
   ],
   "source": [
    "print(\n",
    "    data[data['c-ip'] == '193.17.187.213']['cs-method'].value_counts(),\"\\n\", \n",
    "    data[data['c-ip'] == '193.17.187.213']['sc-status'].value_counts()\n",
    ")\n",
    "\n"
   ]
  },
  {
   "cell_type": "markdown",
   "metadata": {},
   "source": [
    "### ----------------> get usernames that connects with different ips"
   ]
  },
  {
   "cell_type": "code",
   "execution_count": 14,
   "metadata": {},
   "outputs": [
    {
     "name": "stdout",
     "output_type": "stream",
     "text": [
      "dn768529 ['194.24.166.67' '217.8.20.27']\n",
      "lh124581 ['150.127.254.243' '185.157.161.194']\n",
      "qo263492 ['193.123.206.129' '91.199.151.29']\n"
     ]
    }
   ],
   "source": [
    "grp_username_agg_ip = data.groupby(by='cs-username', as_index=False).agg({'c-ip': pd.Series.nunique})\n",
    "usernames = grp_username_agg_ip[grp_username_agg_ip['c-ip'] > 1]['cs-username']\n",
    "for username in usernames:\n",
    "        if username == '-':\n",
    "                continue\n",
    "        print(username, np.unique(data[data['cs-username'] == username]['c-ip']))"
   ]
  },
  {
   "cell_type": "markdown",
   "metadata": {},
   "source": [
    "# second type of sus behaviour"
   ]
  },
  {
   "cell_type": "code",
   "execution_count": 15,
   "metadata": {},
   "outputs": [
    {
     "data": {
      "text/html": [
       "<div>\n",
       "<style scoped>\n",
       "    .dataframe tbody tr th:only-of-type {\n",
       "        vertical-align: middle;\n",
       "    }\n",
       "\n",
       "    .dataframe tbody tr th {\n",
       "        vertical-align: top;\n",
       "    }\n",
       "\n",
       "    .dataframe thead th {\n",
       "        text-align: right;\n",
       "    }\n",
       "</style>\n",
       "<table border=\"1\" class=\"dataframe\">\n",
       "  <thead>\n",
       "    <tr style=\"text-align: right;\">\n",
       "      <th></th>\n",
       "      <th></th>\n",
       "      <th></th>\n",
       "      <th>cs-method</th>\n",
       "    </tr>\n",
       "    <tr>\n",
       "      <th>c-ip</th>\n",
       "      <th>date</th>\n",
       "      <th>cs(Referer)</th>\n",
       "      <th></th>\n",
       "    </tr>\n",
       "  </thead>\n",
       "  <tbody>\n",
       "    <tr>\n",
       "      <th rowspan=\"5\" valign=\"top\">101.0.10.106</th>\n",
       "      <th rowspan=\"5\" valign=\"top\">2022-01-03</th>\n",
       "      <th>-</th>\n",
       "      <td>4</td>\n",
       "    </tr>\n",
       "    <tr>\n",
       "      <th>account_status.aspx</th>\n",
       "      <td>3</td>\n",
       "    </tr>\n",
       "    <tr>\n",
       "      <th>index.aspx</th>\n",
       "      <td>11</td>\n",
       "    </tr>\n",
       "    <tr>\n",
       "      <th>login.aspx</th>\n",
       "      <td>8</td>\n",
       "    </tr>\n",
       "    <tr>\n",
       "      <th>transactions.aspx</th>\n",
       "      <td>13</td>\n",
       "    </tr>\n",
       "  </tbody>\n",
       "</table>\n",
       "</div>"
      ],
      "text/plain": [
       "                                             cs-method\n",
       "c-ip         date       cs(Referer)                   \n",
       "101.0.10.106 2022-01-03 -                            4\n",
       "                        account_status.aspx          3\n",
       "                        index.aspx                  11\n",
       "                        login.aspx                   8\n",
       "                        transactions.aspx           13"
      ]
     },
     "execution_count": 15,
     "metadata": {},
     "output_type": "execute_result"
    }
   ],
   "source": [
    "grp_ip_date = data[['c-ip', 'date','cs-method', 'cs(Referer)']].groupby(['c-ip', 'date', 'cs(Referer)']).count()\n",
    "grp_ip_date.head()\n",
    "\n",
    "# number of transaction for by ip by day by referer"
   ]
  },
  {
   "cell_type": "code",
   "execution_count": 16,
   "metadata": {},
   "outputs": [
    {
     "data": {
      "text/plain": [
       "<AxesSubplot:>"
      ]
     },
     "execution_count": 16,
     "metadata": {},
     "output_type": "execute_result"
    },
    {
     "data": {
      "image/png": "[encoded data removed]",
      "text/plain": [
       "<Figure size 432x288 with 1 Axes>"
      ]
     },
     "metadata": {
      "needs_background": "light"
     },
     "output_type": "display_data"
    }
   ],
   "source": [
    "sns.boxplot(data = grp_ip_date['cs-method'].values)\n",
    "# we see the distribution of our data (mean)\n",
    "# dectect outliers\n",
    "# we have extreme values here"
   ]
  },
  {
   "cell_type": "code",
   "execution_count": 17,
   "metadata": {},
   "outputs": [
    {
     "data": {
      "text/html": [
       "<div>\n",
       "<style scoped>\n",
       "    .dataframe tbody tr th:only-of-type {\n",
       "        vertical-align: middle;\n",
       "    }\n",
       "\n",
       "    .dataframe tbody tr th {\n",
       "        vertical-align: top;\n",
       "    }\n",
       "\n",
       "    .dataframe thead th {\n",
       "        text-align: right;\n",
       "    }\n",
       "</style>\n",
       "<table border=\"1\" class=\"dataframe\">\n",
       "  <thead>\n",
       "    <tr style=\"text-align: right;\">\n",
       "      <th></th>\n",
       "      <th></th>\n",
       "      <th></th>\n",
       "      <th>cs-method</th>\n",
       "    </tr>\n",
       "    <tr>\n",
       "      <th>c-ip</th>\n",
       "      <th>date</th>\n",
       "      <th>cs(Referer)</th>\n",
       "      <th></th>\n",
       "    </tr>\n",
       "  </thead>\n",
       "  <tbody>\n",
       "    <tr>\n",
       "      <th>185.157.161.194</th>\n",
       "      <th>2022-01-28</th>\n",
       "      <th>login.aspx</th>\n",
       "      <td>235</td>\n",
       "    </tr>\n",
       "    <tr>\n",
       "      <th>193.123.206.129</th>\n",
       "      <th>2022-01-01</th>\n",
       "      <th>login.aspx</th>\n",
       "      <td>219</td>\n",
       "    </tr>\n",
       "    <tr>\n",
       "      <th>194.24.166.67</th>\n",
       "      <th>2022-01-20</th>\n",
       "      <th>login.aspx</th>\n",
       "      <td>110</td>\n",
       "    </tr>\n",
       "  </tbody>\n",
       "</table>\n",
       "</div>"
      ],
      "text/plain": [
       "                                        cs-method\n",
       "c-ip            date       cs(Referer)           \n",
       "185.157.161.194 2022-01-28 login.aspx         235\n",
       "193.123.206.129 2022-01-01 login.aspx         219\n",
       "194.24.166.67   2022-01-20 login.aspx         110"
      ]
     },
     "execution_count": 17,
     "metadata": {},
     "output_type": "execute_result"
    }
   ],
   "source": [
    "grp_ip_date[grp_ip_date['cs-method'] > 50]"
   ]
  },
  {
   "cell_type": "code",
   "execution_count": 18,
   "metadata": {},
   "outputs": [],
   "source": [
    "def get_intruders_ips():\n",
    "    ips = []\n",
    "    for row in grp_ip_date[grp_ip_date['cs-method'] > 50].index:\n",
    "        ips.append(row[0])\n",
    "    return ips"
   ]
  },
  {
   "cell_type": "code",
   "execution_count": 19,
   "metadata": {},
   "outputs": [
    {
     "data": {
      "text/html": [
       "<div>\n",
       "<style scoped>\n",
       "    .dataframe tbody tr th:only-of-type {\n",
       "        vertical-align: middle;\n",
       "    }\n",
       "\n",
       "    .dataframe tbody tr th {\n",
       "        vertical-align: top;\n",
       "    }\n",
       "\n",
       "    .dataframe thead th {\n",
       "        text-align: right;\n",
       "    }\n",
       "</style>\n",
       "<table border=\"1\" class=\"dataframe\">\n",
       "  <thead>\n",
       "    <tr style=\"text-align: right;\">\n",
       "      <th></th>\n",
       "      <th>ip</th>\n",
       "      <th>login.aspx</th>\n",
       "      <th>transfer.aspx</th>\n",
       "      <th>transfer_complete.aspx</th>\n",
       "      <th>transactions.aspx</th>\n",
       "      <th>-</th>\n",
       "      <th>index.aspx</th>\n",
       "      <th>401</th>\n",
       "      <th>200</th>\n",
       "      <th>404</th>\n",
       "      <th>301</th>\n",
       "      <th>POST</th>\n",
       "      <th>GET</th>\n",
       "    </tr>\n",
       "  </thead>\n",
       "  <tbody>\n",
       "    <tr>\n",
       "      <th>0</th>\n",
       "      <td>185.157.161.194</td>\n",
       "      <td>235.0</td>\n",
       "      <td>36.0</td>\n",
       "      <td>20.0</td>\n",
       "      <td>9.0</td>\n",
       "      <td>4.0</td>\n",
       "      <td>1.0</td>\n",
       "      <td>231.0</td>\n",
       "      <td>62.0</td>\n",
       "      <td>9.0</td>\n",
       "      <td>3.0</td>\n",
       "      <td>238.0</td>\n",
       "      <td>67.0</td>\n",
       "    </tr>\n",
       "    <tr>\n",
       "      <th>1</th>\n",
       "      <td>193.123.206.129</td>\n",
       "      <td>219.0</td>\n",
       "      <td>39.0</td>\n",
       "      <td>15.0</td>\n",
       "      <td>6.0</td>\n",
       "      <td>2.0</td>\n",
       "      <td>1.0</td>\n",
       "      <td>215.0</td>\n",
       "      <td>61.0</td>\n",
       "      <td>3.0</td>\n",
       "      <td>3.0</td>\n",
       "      <td>222.0</td>\n",
       "      <td>60.0</td>\n",
       "    </tr>\n",
       "    <tr>\n",
       "      <th>2</th>\n",
       "      <td>194.24.166.67</td>\n",
       "      <td>110.0</td>\n",
       "      <td>35.0</td>\n",
       "      <td>19.0</td>\n",
       "      <td>11.0</td>\n",
       "      <td>2.0</td>\n",
       "      <td>1.0</td>\n",
       "      <td>106.0</td>\n",
       "      <td>63.0</td>\n",
       "      <td>6.0</td>\n",
       "      <td>3.0</td>\n",
       "      <td>113.0</td>\n",
       "      <td>65.0</td>\n",
       "    </tr>\n",
       "  </tbody>\n",
       "</table>\n",
       "</div>"
      ],
      "text/plain": [
       "                ip  login.aspx  transfer.aspx  transfer_complete.aspx  \\\n",
       "0  185.157.161.194       235.0           36.0                    20.0   \n",
       "1  193.123.206.129       219.0           39.0                    15.0   \n",
       "2    194.24.166.67       110.0           35.0                    19.0   \n",
       "\n",
       "   transactions.aspx    -  index.aspx    401   200  404  301   POST   GET  \n",
       "0                9.0  4.0         1.0  231.0  62.0  9.0  3.0  238.0  67.0  \n",
       "1                6.0  2.0         1.0  215.0  61.0  3.0  3.0  222.0  60.0  \n",
       "2               11.0  2.0         1.0  106.0  63.0  6.0  3.0  113.0  65.0  "
      ]
     },
     "execution_count": 19,
     "metadata": {},
     "output_type": "execute_result"
    }
   ],
   "source": [
    "intruders = pd.DataFrame()\n",
    "ips = get_intruders_ips()\n",
    "dict = {}\n",
    "for ip in ips:\n",
    "    dict['ip'] = ip\n",
    "    df = data[data['c-ip'] == ip]\n",
    "    dict.update(df['cs(Referer)'].value_counts().to_dict())\n",
    "    dict.update(df['sc-status'].value_counts().to_dict())\n",
    "    dict.update(df['cs-method'].value_counts().to_dict())\n",
    "    intruders = intruders.append(dict, ignore_index=True)\n",
    "\n",
    "intruders"
   ]
  },
  {
   "cell_type": "code",
   "execution_count": null,
   "metadata": {},
   "outputs": [],
   "source": []
  }
 ],
 "metadata": {
  "interpreter": {
   "hash": "0dde2e04d845f5766e0bd6b62013b19a115c6c63dc3ea6e6b6b46f1a65501858"
  },
  "kernelspec": {
   "display_name": "Python 3.7.4 32-bit (system)",
   "language": "python",
   "name": "python3"
  },
  "language_info": {
   "codemirror_mode": {
    "name": "ipython",
    "version": 3
   },
   "file_extension": ".py",
   "mimetype": "text/x-python",
   "name": "python",
   "nbconvert_exporter": "python",
   "pygments_lexer": "ipython3",
   "version": "3.7.4"
  },
  "orig_nbformat": 4
 },
 "nbformat": 4,
 "nbformat_minor": 2
}
